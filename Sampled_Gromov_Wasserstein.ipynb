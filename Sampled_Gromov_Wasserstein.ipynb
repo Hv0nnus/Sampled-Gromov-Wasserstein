{
 "cells": [
  {
   "cell_type": "markdown",
   "metadata": {},
   "source": [
    "# Sampled Gromov Wasserstein"
   ]
  },
  {
   "cell_type": "markdown",
   "metadata": {},
   "source": [
    "- This notebook summarises the code of the paper Sampled Gromov Wasserstein accepted at the Journal Track of ECML-PKDD 2021 and allows to reproduce every tables and figures in the paper and in the supplementary material. An open source version is available at https://hal.archives-ouvertes.fr/hal-03232509/document.\n",
    "- To allow further reuse, we plan to integrate it into the **POT library** (https://pythonot.github.io/) very soon, check the latest POT library version if you want to use the algorithm and do not care about reproducing the experiments of this paper.\n",
    "- Do not hesitate to send a mail if you have any questions about the code or the paper : tanguy.kerdoncuff@laposte.net"
   ]
  },
  {
   "cell_type": "markdown",
   "metadata": {},
   "source": [
    "# Code comments"
   ]
  },
  {
   "cell_type": "code",
   "execution_count": null,
   "metadata": {},
   "outputs": [],
   "source": []
  },
  {
   "cell_type": "markdown",
   "metadata": {},
   "source": [
    "The option \"-s\" allows to save the results of different runs. As everything as already been saved we do not use this option. The corresponding notation between the paper and the name of the algorithm used are:\n",
    "- SaGroW = sampled_gromov_e_constant\n",
    "- PoGroW = sampled_gromov_sliced\n",
    "- EGW = e_gromov\n",
    "- EGW$^{KL}$ = e_gromov_KL\n",
    "- EMD-GW = gromov\n",
    "- S-GWL = S_GWL\n",
    "- SGW = sliced_gromov"
   ]
  },
  {
   "cell_type": "markdown",
   "metadata": {},
   "source": [
    "# First test to see if the methods are working"
   ]
  },
  {
   "cell_type": "code",
   "execution_count": 8,
   "metadata": {},
   "outputs": [
    {
     "name": "stdout",
     "output_type": "stream",
     "text": [
      "Namespace(KL=1, T_is_sparse=False, alpha_experiment=False, barycenter=False, batch_size=None, clique_size_s=50, clique_size_t=50, constraint=True, cross_val=False, dimension=2, dimension_s=20, dimension_t=10, enough_space=True, entropy_experiment=False, epsilon=1.0, epsilon_min=0.0, from_graphs='', iter_epsilon=1000, iter_max=1, learning_step=0.8, loss_func_name='1_loss', n_iter_algo=1, n_neighbors=5, n_samples_s=100, n_samples_t=100, name_algo='sampled_gromov_e_constant', name_dataset='gaussian_point_graph', nb_iter_batch=1, nb_iter_update_Y=400, noise_graph=0.1, p_in_s=0.5, p_in_t=0.5, param1='', param2='', pickle_name='', pickle_path='pickle_compare', plot=False, ps_out_s=0.1, ps_out_t=0.1, rdm_seed=12345, repeat=True, same_space=False, save_pickle=False, sparse_graph=True, to_graphs='', value_graph=True, variance_s=5, variance_t=5, verbose=False)\n",
      "Mean Wasserstein distance 216.69561609687395\n",
      "Mean Wasserstein distance approximated 216.70651108481158\n",
      "Mean computational time for finding T 9.253057479858398\n",
      "Mean computational time for the approximated Wasserstein distance 0.007505178451538086\n",
      "Mean computational time for the real Wasserstein distance 0.460538387298584\n"
     ]
    }
   ],
   "source": [
    "!python main_comparaison.py --n_samples_s 100 --loss_func_name 1_loss --name_algo sampled_gromov_e_constant --name_dataset gaussian_point_graph --n_iter_algo 1"
   ]
  },
  {
   "cell_type": "code",
   "execution_count": 9,
   "metadata": {},
   "outputs": [
    {
     "name": "stdout",
     "output_type": "stream",
     "text": [
      "Namespace(KL=1, T_is_sparse=False, alpha_experiment=False, barycenter=False, batch_size=None, clique_size_s=50, clique_size_t=50, constraint=True, cross_val=False, dimension=2, dimension_s=20, dimension_t=10, enough_space=True, entropy_experiment=False, epsilon=1.0, epsilon_min=0.0, from_graphs='', iter_epsilon=1000, iter_max=1, learning_step=0.8, loss_func_name='1_loss', n_iter_algo=1, n_neighbors=5, n_samples_s=100, n_samples_t=100, name_algo='sampled_gromov_sliced', name_dataset='gaussian_point_graph', nb_iter_batch=1, nb_iter_update_Y=400, noise_graph=0.1, p_in_s=0.5, p_in_t=0.5, param1='', param2='', pickle_name='', pickle_path='pickle_compare', plot=False, ps_out_s=0.1, ps_out_t=0.1, rdm_seed=12345, repeat=True, same_space=False, save_pickle=False, sparse_graph=True, to_graphs='', value_graph=True, variance_s=5, variance_t=5, verbose=False)\n",
      "Point Gromov\n",
      "Mean Wasserstein distance 223.26420787066286\n",
      "Mean Wasserstein distance approximated 223.234317710457\n",
      "Mean computational time for finding T 0.14375901222229004\n",
      "Mean computational time for the approximated Wasserstein distance 0.007062673568725586\n",
      "Mean computational time for the real Wasserstein distance 0.48117542266845703\n"
     ]
    }
   ],
   "source": [
    "!python main_comparaison.py --n_samples_s 100 --loss_func_name 1_loss --name_algo sampled_gromov_sliced --name_dataset gaussian_point_graph --n_iter_algo 1"
   ]
  },
  {
   "cell_type": "code",
   "execution_count": 10,
   "metadata": {},
   "outputs": [
    {
     "name": "stdout",
     "output_type": "stream",
     "text": [
      "Namespace(KL=1, T_is_sparse=False, alpha_experiment=False, barycenter=False, batch_size=None, clique_size_s=50, clique_size_t=50, constraint=True, cross_val=False, dimension=2, dimension_s=20, dimension_t=10, enough_space=True, entropy_experiment=False, epsilon=1.0, epsilon_min=0.0, from_graphs='', iter_epsilon=1000, iter_max=1, learning_step=0.8, loss_func_name='1_loss', n_iter_algo=1, n_neighbors=5, n_samples_s=100, n_samples_t=100, name_algo='e_gromov', name_dataset='gaussian_point_graph', nb_iter_batch=1, nb_iter_update_Y=400, noise_graph=0.1, p_in_s=0.5, p_in_t=0.5, param1='', param2='', pickle_name='', pickle_path='pickle_compare', plot=False, ps_out_s=0.1, ps_out_t=0.1, rdm_seed=12345, repeat=True, same_space=False, save_pickle=False, sparse_graph=True, to_graphs='', value_graph=True, variance_s=5, variance_t=5, verbose=False)\n",
      "Mean Wasserstein distance 240.72013604550287\n",
      "Mean Wasserstein distance approximated 240.72013604550287\n",
      "Mean computational time for finding T 5.407240152359009\n",
      "Mean computational time for the approximated Wasserstein distance 7.152557373046875e-07\n",
      "Mean computational time for the real Wasserstein distance 0.3827793598175049\n"
     ]
    }
   ],
   "source": [
    "!python main_comparaison.py --n_samples_s 100 --loss_func_name 1_loss --name_algo e_gromov --name_dataset gaussian_point_graph --n_iter_algo 1"
   ]
  },
  {
   "cell_type": "markdown",
   "metadata": {},
   "source": [
    "# Main comparaison"
   ]
  },
  {
   "cell_type": "markdown",
   "metadata": {},
   "source": [
    "For the main experiment, you need to run the command above for each algorithms (name_algo), each of the two datasets (name_dataset) with n_iter_algo = 10 and potentialy different value of parameters depending on the algorithm.\n",
    "- SaGroW will depend mainly on the number of samples and iterations\n",
    "- PoGroW mainly depends on the number of iterations\n",
    "- EGW, EGW$_{KL}$ and S_GWL mainly depend on the entropy term\n",
    "\n",
    "We provide a bash-like pseudo code example to run on a cluster to save all the files into the folder \"pickle_compare\"."
   ]
  },
  {
   "cell_type": "code",
   "execution_count": null,
   "metadata": {},
   "outputs": [],
   "source": [
    "for n in 20 50 100:\n",
    "    for d in gaussian_point_graph gaussian_graph\n",
    "        for m in 1 10 100 1000\n",
    "            for i in 10 50 100 500 1000\n",
    "                !python main_experiment.py -s --n_samples_s $n --loss_func_name 1_loss --name_algo sampled_gromov_no_KL_e_constant --pickle_name 5 --batch_size $m --iter_epsilon $i --param1 $m --param2 $i"
   ]
  },
  {
   "cell_type": "markdown",
   "metadata": {},
   "source": [
    "The \"pickle_name\" parameter is here to avoid deleting existing files by adding a different value each time.\n",
    "The \"param1\" and \"param2\" parameters are essential to save at differente locations for each set of hyperparameter."
   ]
  },
  {
   "cell_type": "markdown",
   "metadata": {},
   "source": [
    "### Results"
   ]
  },
  {
   "cell_type": "markdown",
   "metadata": {},
   "source": [
    "If all the experiments as been runed, we can visualize them."
   ]
  },
  {
   "cell_type": "markdown",
   "metadata": {},
   "source": [
    "Using the parameter \"paper plot\", only the best hyperparameters are selected. The first plot shows the time for computing the transport plan T and the time needed to compute the distance with the complete (and slow) method."
   ]
  },
  {
   "cell_type": "code",
   "execution_count": 6,
   "metadata": {
    "scrolled": false
   },
   "outputs": [
    {
     "data": {
      "application/vnd.jupyter.widget-view+json": {
       "model_id": "ff0b13fc2de54adabd999de916bbb97b",
       "version_major": 2,
       "version_minor": 0
      },
      "text/plain": [
       "interactive(children=(Checkbox(value=True, description='sampled_gromov_e_constant'), Checkbox(value=False, des…"
      ]
     },
     "metadata": {},
     "output_type": "display_data"
    }
   ],
   "source": [
    "import ipywidgets as widgets\n",
    "from ipywidgets import interact, interact_manual\n",
    "import main_comparaison\n",
    "import numpy as np\n",
    "import tikzplotlib\n",
    "@interact\n",
    "def plot_widgets(sampled_gromov_e_constant=True,\n",
    "                 sampled_gromov_no_KL_e_constant=False,\n",
    "                 sampled_gromov_sliced=True,\n",
    "                 sliced_gromov=True,\n",
    "                 identity=True,\n",
    "                 S_GWL=True,\n",
    "                 gromov=True,\n",
    "                 e_gromov=True,\n",
    "                 e_gromov_KL=True,\n",
    "                 uniform=True,\n",
    "                 entropy=[[0.001, 0.005, 0.01, 0.05, 0.1], [0.001], [0.005], [0.01], [0.05], [0.1]],\n",
    "                 entropy_SGWL=[[0.01, 0.1, 1, 10, 100], [0.01], [0.1], [1], [10], [100]],\n",
    "                 iteration=[[10, 50, 100, 500, 1000], [10], [50], [100], [500], [1000]],\n",
    "                 batchsize=[[1, 10, 100, 1000], [1], [10], [100], [1000]],\n",
    "                 max_n_samples=10000,\n",
    "                 pickle_name=[\"\"],\n",
    "                 name_dataset=[\"gaussian_point_graph\", \"gaussian_graph\"],\n",
    "                 log_scale=True,\n",
    "                 figsize1=8,\n",
    "                 figsize2=5,\n",
    "                 loss_func_name=[\"1_loss\", \"square_loss\"],\n",
    "                 save=False,\n",
    "                 paper_plot=True,\n",
    "                show_legend=True):\n",
    "    names_algo = []\n",
    "    names_algo_legend = []\n",
    "    if e_gromov:\n",
    "        names_algo.append(\"e_gromov\")\n",
    "        names_algo_legend.append(\"EGW\")\n",
    "    if e_gromov_KL:\n",
    "        names_algo.append(\"e_gromov_KL\")\n",
    "        names_algo_legend.append(\"EGW$^{KL}$\")\n",
    "    if gromov:\n",
    "        names_algo.append(\"gromov\")\n",
    "        names_algo_legend.append(\"EMD-GW\")\n",
    "    if S_GWL:\n",
    "        names_algo.append(\"S_GWL\")\n",
    "        names_algo_legend.append(\"S-GWL\")\n",
    "    if sampled_gromov_e_constant:\n",
    "        names_algo.append(\"sampled_gromov_e_constant\")\n",
    "        names_algo_legend.append(\"$SaGroW^{KL}$\")\n",
    "    if sampled_gromov_no_KL_e_constant:\n",
    "        names_algo.append(\"sampled_gromov_no_KL_e_constant\")\n",
    "        names_algo_legend.append(\"$SaGroW$\")\n",
    "    if sampled_gromov_sliced:\n",
    "        names_algo.append(\"sampled_gromov_sliced\")\n",
    "        names_algo_legend.append(\"PoGroW\")\n",
    "    if sliced_gromov:\n",
    "        names_algo.append(\"sliced_gromov\")\n",
    "        names_algo_legend.append(\"SGW\")\n",
    "    if uniform:\n",
    "        names_algo.append(\"uniform\")\n",
    "        names_algo_legend.append(\"Uniform\")\n",
    "    if identity:\n",
    "        names_algo.append(\"identity\")\n",
    "        names_algo_legend.append(\"Identity\")\n",
    "    n_samples = np.array([20, 50, 100, 200, 500, 1000, 1500, 2000, 5000, 10000])\n",
    "    n_samples = n_samples[n_samples <= max_n_samples]\n",
    "\n",
    "    if not pickle_name:\n",
    "        if name_dataset == \"same_graph\":\n",
    "            pickle_name = \"same\"\n",
    "        else:\n",
    "            pickle_name = \"_2\"\n",
    "    main_comparaison.analyse_data_hyper(names_algo=names_algo,\n",
    "                                        names_algo_legend=names_algo_legend,\n",
    "                                        n_samples_s=list(n_samples),\n",
    "                                        pickle_name=pickle_name,\n",
    "                                        name_dataset=name_dataset,\n",
    "                                        log_scale=log_scale,\n",
    "                                        figsize=(figsize1, figsize2),\n",
    "                                        save=save,\n",
    "                                        loss_func_name=loss_func_name,\n",
    "                                        entropy=entropy,\n",
    "                                        entropy_SGWL=entropy_SGWL,\n",
    "                                        batchsize=batchsize,\n",
    "                                        iteration=iteration,\n",
    "                                        paper_plot=paper_plot,\n",
    "                                       show_legend=show_legend,\n",
    "                                       linestyle=\"-\")"
   ]
  },
  {
   "cell_type": "markdown",
   "metadata": {},
   "source": [
    "# Hyperparameters analysis"
   ]
  },
  {
   "cell_type": "code",
   "execution_count": 3,
   "metadata": {},
   "outputs": [
    {
     "data": {
      "application/vnd.jupyter.widget-view+json": {
       "model_id": "34303b33a2ae4ce88dd62390238e6a9d",
       "version_major": 2,
       "version_minor": 0
      },
      "text/plain": [
       "interactive(children=(Checkbox(value=True, description='sampled_gromov_e_constant'), Checkbox(value=False, des…"
      ]
     },
     "metadata": {},
     "output_type": "display_data"
    }
   ],
   "source": [
    "import ipywidgets as widgets\n",
    "from ipywidgets import interact, interact_manual\n",
    "import main_comparaison\n",
    "import numpy as np\n",
    "import tikzplotlib\n",
    "@interact\n",
    "def plot_widgets(sampled_gromov_e_constant=True,\n",
    "                 sampled_gromov_no_KL_e_constant=False, # Same as sliced\n",
    "                 sampled_gromov_sliced=True,\n",
    "                 sliced_gromov=True,\n",
    "                 identity=True,\n",
    "                 S_GWL=True,\n",
    "                 gromov=True,\n",
    "                 e_gromov=True,\n",
    "                 e_gromov_KL=True,\n",
    "                 uniform=True,\n",
    "                 entropy=[[0.001, 0.005, 0.01, 0.05, 0.1, 1, 10, 100],\n",
    "                          [0.001, 0.005, 0.01, 0.05, 0.1],\n",
    "                          [0.005, 0.01, 0.05, 0.1, 1, 10, 100]],\n",
    "                 iteration=[[10, 50, 100, 500], [10, 50, 100, 500, 1000], [10, 50, 500], [10, 100, 500],\n",
    "                            [10], [50], [100], [500], [1000]],\n",
    "                 batchsize=[[1, 100, 1000], [1, 10, 100, 1000],  [1, 10, 1000], [1], [10], [100], [1000]],\n",
    "                 n_samples=[500, 20,50,100,200,500,1000,2000,5000,10000],\n",
    "                 pickle_name=[\"\"],\n",
    "                 name_dataset=[\"gaussian_point_graph\", \"gaussian_graph\"],\n",
    "                 log_scale=True,\n",
    "                 figsize1=11,\n",
    "                 figsize2=5,\n",
    "                 loss_func_name=[\"1_loss\", \"square_loss\"],\n",
    "                 save=False,\n",
    "                 min_plot=False,\n",
    "                 only_PGW=True,\n",
    "                 final_plot=True,\n",
    "                 which_plot=2):\n",
    "    names_algo = []\n",
    "    names_algo_legend = []\n",
    "    if sampled_gromov_e_constant:\n",
    "        names_algo.append(\"sampled_gromov_e_constant\")\n",
    "        names_algo_legend.append(\"$SaGroW^{KL}$\")\n",
    "    if sampled_gromov_no_KL_e_constant:\n",
    "        names_algo.append(\"sampled_gromov_no_KL_e_constant\")\n",
    "        names_algo_legend.append(\"$SaGroW$\")\n",
    "    if sampled_gromov_sliced:\n",
    "        names_algo.append(\"sampled_gromov_sliced\")\n",
    "        names_algo_legend.append(\"PoGroW\")\n",
    "    if gromov:\n",
    "        names_algo.append(\"gromov\")\n",
    "        names_algo_legend.append(\"$EMD-GW$\")\n",
    "    if S_GWL:\n",
    "        names_algo.append(\"S_GWL\")\n",
    "        names_algo_legend.append(\"$S-GWL$\")\n",
    "    if e_gromov:\n",
    "        names_algo.append(\"e_gromov\")\n",
    "        names_algo_legend.append(\"$EGW_\\\\epsilon$\")\n",
    "    if e_gromov_KL:\n",
    "        names_algo.append(\"e_gromov_KL\")\n",
    "        names_algo_legend.append(\"$EGW^{KL}$\")\n",
    "    if sliced_gromov:\n",
    "        names_algo.append(\"sliced_gromov\")\n",
    "        names_algo_legend.append(\"Sliced GW\")\n",
    "    if uniform:\n",
    "        names_algo.append(\"uniform\")\n",
    "        names_algo_legend.append(\"Uniform\")\n",
    "    if identity:\n",
    "        names_algo.append(\"identity\")\n",
    "        names_algo_legend.append(\"Identity\")\n",
    "    \n",
    "    n_samples = np.array(n_samples)\n",
    "\n",
    "    if not pickle_name:\n",
    "        if name_dataset == \"same_graph\":\n",
    "            pickle_name = \"same\"\n",
    "        else:\n",
    "            pickle_name = \"_2\"\n",
    "    main_comparaison.hyperparameter_analysis_3(names_algo=names_algo,\n",
    "                                        names_algo_legend=names_algo_legend,\n",
    "                                        n_samples_s=n_samples,\n",
    "                                        pickle_name=pickle_name,\n",
    "                                        name_dataset=name_dataset,\n",
    "                                        log_scale=log_scale,\n",
    "                                        figsize=(figsize1, figsize2),\n",
    "                                        save=save,\n",
    "                                        loss_func_name=loss_func_name,\n",
    "                                        entropy=entropy,\n",
    "                                        batchsize=batchsize,\n",
    "                                        iteration=iteration,\n",
    "                                            min_plot=min_plot,\n",
    "                                            only_PGW=only_PGW,\n",
    "                                            final_plot=final_plot,\n",
    "                                              which_plot=which_plot)"
   ]
  },
  {
   "cell_type": "code",
   "execution_count": 5,
   "metadata": {
    "scrolled": false
   },
   "outputs": [
    {
     "data": {
      "application/vnd.jupyter.widget-view+json": {
       "model_id": "c9205f2ed4a746058bfb00e49de8583b",
       "version_major": 2,
       "version_minor": 0
      },
      "text/plain": [
       "interactive(children=(Checkbox(value=True, description='sampled_gromov_e_constant'), Checkbox(value=False, des…"
      ]
     },
     "metadata": {},
     "output_type": "display_data"
    }
   ],
   "source": [
    "import ipywidgets as widgets\n",
    "from ipywidgets import interact, interact_manual\n",
    "import main_comparaison\n",
    "import numpy as np\n",
    "import tikzplotlib\n",
    "@interact\n",
    "def plot_widgets(sampled_gromov_e_constant=True,\n",
    "                 sampled_gromov_no_KL_e_constant=False,\n",
    "                 sampled_gromov_sliced=True,\n",
    "                 sliced_gromov=True,\n",
    "                 identity=True,\n",
    "                 S_GWL=True,\n",
    "                 gromov=True,\n",
    "                 e_gromov=True,\n",
    "                 e_gromov_KL=True,\n",
    "                 uniform=True,\n",
    "                 entropy=[[0.001, 0.005, 0.01, 0.05, 0.1, 1, 10, 100],\n",
    "                          [0.001, 0.005, 0.01, 0.05, 0.1],\n",
    "                          [0.005, 0.01, 0.05, 0.1, 1, 10, 100]],\n",
    "                 iteration=[[10, 50, 100, 500], [10, 50, 100, 500, 1000], \n",
    "                            [10], [50], [100], [500], [1000]],\n",
    "                 batchsize=[[1, 10, 100, 1000], [1], [10], [100], [1000]],\n",
    "                 n_samples=[500, 20,50,100,200,500,1000,2000,5000,10000],\n",
    "                 pickle_name=[\"\"],\n",
    "                 name_dataset=[\"gaussian_point_graph\", \"gaussian_graph\"],\n",
    "                 log_scale=True,\n",
    "                 figsize1=11,\n",
    "                 figsize2=5,\n",
    "                 loss_func_name=[\"1_loss\", \"square_loss\"],\n",
    "                 save=False,\n",
    "                 min_plot=False,\n",
    "                only_PGW=True,\n",
    "                final_plot=True):\n",
    "    names_algo = []\n",
    "    names_algo_legend = []\n",
    "    if sampled_gromov_e_constant:\n",
    "        names_algo.append(\"sampled_gromov_e_constant\")\n",
    "        names_algo_legend.append(\"$SaGroW^{KL}$\")\n",
    "    if sampled_gromov_no_KL_e_constant:\n",
    "        names_algo.append(\"sampled_gromov_no_KL_e_constant\")\n",
    "        names_algo_legend.append(\"$SaGroW$\")\n",
    "    if sampled_gromov_sliced:\n",
    "        names_algo.append(\"sampled_gromov_sliced\")\n",
    "        names_algo_legend.append(\"PoGroW\")\n",
    "    if gromov:\n",
    "        names_algo.append(\"gromov\")\n",
    "        names_algo_legend.append(\"$EMD-GW$\")\n",
    "    if S_GWL:\n",
    "        names_algo.append(\"S_GWL\")\n",
    "        names_algo_legend.append(\"$S-GWL$\")\n",
    "    if e_gromov:\n",
    "        names_algo.append(\"e_gromov\")\n",
    "        names_algo_legend.append(\"$EGW_\\\\epsilon$\")\n",
    "    if e_gromov_KL:\n",
    "        names_algo.append(\"e_gromov_KL\")\n",
    "        names_algo_legend.append(\"$EGW^{KL}$\")\n",
    "    if sliced_gromov:\n",
    "        names_algo.append(\"sliced_gromov\")\n",
    "        names_algo_legend.append(\"Sliced GW\")\n",
    "    if uniform:\n",
    "        names_algo.append(\"uniform\")\n",
    "        names_algo_legend.append(\"Uniform\")\n",
    "    if identity:\n",
    "        names_algo.append(\"identity\")\n",
    "        names_algo_legend.append(\"Identity\")\n",
    "    n_samples = np.array(n_samples)\n",
    "\n",
    "    if not pickle_name:\n",
    "        if name_dataset == \"same_graph\":\n",
    "            pickle_name = \"same\"\n",
    "        else:\n",
    "            pickle_name = \"_2\"\n",
    "    main_comparaison.hyperparameter_analysis(names_algo=names_algo,\n",
    "                                        names_algo_legend=names_algo_legend,\n",
    "                                        n_samples_s=n_samples,\n",
    "                                        pickle_name=pickle_name,\n",
    "                                        name_dataset=name_dataset,\n",
    "                                        log_scale=log_scale,\n",
    "                                        figsize=(figsize1, figsize2),\n",
    "                                        save=save,\n",
    "                                        loss_func_name=loss_func_name,\n",
    "                                        entropy=entropy,\n",
    "                                        batchsize=batchsize,\n",
    "                                        iteration=iteration,\n",
    "                                            min_plot=min_plot,\n",
    "                                            only_PGW=only_PGW,\n",
    "                                            final_plot=final_plot)"
   ]
  },
  {
   "cell_type": "markdown",
   "metadata": {},
   "source": [
    "# Distance Comparaison"
   ]
  },
  {
   "cell_type": "markdown",
   "metadata": {},
   "source": [
    "## Number of point"
   ]
  },
  {
   "cell_type": "code",
   "execution_count": null,
   "metadata": {},
   "outputs": [],
   "source": [
    "!python distance_comparaison.py --points=10,20,50,100,200,500 # ,1000,2000"
   ]
  },
  {
   "cell_type": "code",
   "execution_count": 1,
   "metadata": {},
   "outputs": [
    {
     "data": {
      "image/png": "[encoded data removed]",
      "text/plain": [
       "<Figure size 432x288 with 1 Axes>"
      ]
     },
     "metadata": {
      "needs_background": "light"
     },
     "output_type": "display_data"
    },
    {
     "data": {
      "image/png": "[encoded data removed]",
      "text/plain": [
       "<Figure size 432x288 with 1 Axes>"
      ]
     },
     "metadata": {
      "needs_background": "light"
     },
     "output_type": "display_data"
    }
   ],
   "source": [
    "import distance_comparaison \n",
    "distance_comparaison.plot(entropy=False,\n",
    "                          epsilon_range=[10,20,50,100,200,500],\n",
    "                          figsize1=6,\n",
    "                          figsize2=4)"
   ]
  },
  {
   "cell_type": "markdown",
   "metadata": {},
   "source": [
    "## Entropy"
   ]
  },
  {
   "cell_type": "code",
   "execution_count": null,
   "metadata": {},
   "outputs": [],
   "source": [
    "!python distance_comparaison.py -e"
   ]
  },
  {
   "cell_type": "code",
   "execution_count": 1,
   "metadata": {},
   "outputs": [
    {
     "data": {
      "image/png": "[encoded data removed]",
      "text/plain": [
       "<Figure size 432x288 with 1 Axes>"
      ]
     },
     "metadata": {
      "needs_background": "light"
     },
     "output_type": "display_data"
    },
    {
     "data": {
      "image/png": "[encoded data removed]",
      "text/plain": [
       "<Figure size 432x288 with 1 Axes>"
      ]
     },
     "metadata": {
      "needs_background": "light"
     },
     "output_type": "display_data"
    }
   ],
   "source": [
    "import distance_comparaison\n",
    "distance_comparaison.plot(entropy=True, figsize1=6, figsize2=4)"
   ]
  },
  {
   "cell_type": "markdown",
   "metadata": {},
   "source": [
    "# Graph real experiment"
   ]
  },
  {
   "cell_type": "markdown",
   "metadata": {},
   "source": [
    "The first run should take a long time as the dataset is preprocessed and saved in \"./DATA/FIRSTMM_DB/C_label.pickle\". This file is too big to be provided in the repository.\n",
    "The code can be easily parallelized even for one method, with the \"--from_graphs 0,9 --to_graphs 0,9\" command. This will only compute 100 distances.\n",
    "\n",
    "To use different hyperparameters for one method, the command \"--pickle_name differente_name_each_time\" should be used to save in different location."
   ]
  },
  {
   "cell_type": "code",
   "execution_count": null,
   "metadata": {},
   "outputs": [],
   "source": [
    "!python main_comparaison.py --loss_func_name square_loss --name_algo uniform --name_dataset DB --n_iter_algo 1 --from_graphs 0,41 --to_graphs 0,41"
   ]
  },
  {
   "cell_type": "markdown",
   "metadata": {},
   "source": [
    "The command \"-c\" do not really cross validate the data, but only compute the mean distance, time and accuracy with a 1-KNN."
   ]
  },
  {
   "cell_type": "code",
   "execution_count": null,
   "metadata": {},
   "outputs": [],
   "source": [
    "!python main_comparaison.py -c --loss_func_name square_loss --name_algo uniform --name_dataset DB --from_graphs 0,41 --to_graphs 0,41"
   ]
  },
  {
   "cell_type": "markdown",
   "metadata": {},
   "source": [
    "All the methods are shown excepts for the exponential square loss, which crash (0 GW distance) due to bad choice of \"standard deviation\" to normalized the square. To stay fair with the other methods, we do not run again with other hyperparameters. We are however still confidente that this loss can make sens in some datasets."
   ]
  },
  {
   "cell_type": "code",
   "execution_count": 1,
   "metadata": {},
   "outputs": [
    {
     "name": "stdout",
     "output_type": "stream",
     "text": [
      "\\begin{table*}\n",
      "\\begin{tabular}{llll}\n",
      "\\toprule\n",
      "                    Dataset &   Train & Distance &    Time \\\\\n",
      "\\midrule\n",
      "      \\ScalableGW$_{0.005}$ &   $0.1$ &    $400$ &  $14.7$ \\\\\n",
      "       \\ScalableGW$_{0.01}$ &   $0.1$ &    $400$ &  $13.9$ \\\\\n",
      "       \\ScalableGW$_{0.05}$ &   $0.1$ &    $400$ &  $13.9$ \\\\\n",
      "        \\ScalableGW$_{0.1}$ &   $0.1$ &    $400$ &  $12.6$ \\\\\n",
      "        \\ScalableGW$_{0.5}$ &  $0.17$ &    $390$ &  $12.0$ \\\\\n",
      "        \\ScalableGW$_{100}$ &  $0.39$ &    $372$ &  $33.2$ \\\\\n",
      "         \\ScalableGW$_{10}$ &  $0.41$ &    $377$ &  $27.8$ \\\\\n",
      "          \\ScalableGW$_{1}$ &  $0.29$ &    $374$ &  $11.0$ \\\\\n",
      "         \\ScalableGW$_{50}$ &  $0.41$ &    $374$ &  $34.1$ \\\\\n",
      "          \\ScalableGW$_{5}$ &  $0.44$ &    $362$ &  $23.4$ \\\\\n",
      "               \\EGW{0.0001} &  $0.07$ &    $430$ &   $0.1$ \\\\\n",
      "               \\EGW{0.0005} &  $0.07$ &    $429$ &   $4.5$ \\\\\n",
      "                \\EGW{0.001} &  $0.22$ &    $412$ &  $36.2$ \\\\\n",
      "                \\EGW{0.005} &  $0.22$ &    $375$ &  $42.6$ \\\\\n",
      "                 \\EGW{0.01} &  $0.12$ &    $383$ &  $25.1$ \\\\\n",
      "                 \\EGW{0.05} &  $0.15$ &    $408$ &   $6.2$ \\\\\n",
      "                  \\EGW{0.1} &  $0.12$ &    $420$ &   $2.0$ \\\\\n",
      "                  \\EGW{0.5} &  $0.07$ &    $429$ &   $0.3$ \\\\\n",
      "                    \\EGW{1} &  $0.07$ &    $429$ &   $0.3$ \\\\\n",
      "             \\EGWKL{0.0001} &  $0.07$ &    $430$ &   $0.1$ \\\\\n",
      "             \\EGWKL{0.0005} &  $0.07$ &    $429$ &   $0.1$ \\\\\n",
      "              \\EGWKL{0.001} &  $0.15$ &    $419$ &   $0.2$ \\\\\n",
      "              \\EGWKL{0.005} &  $0.24$ &    $375$ &  $41.1$ \\\\\n",
      "               \\EGWKL{0.01} &  $0.12$ &    $383$ &  $25.8$ \\\\\n",
      "               \\EGWKL{0.05} &  $0.15$ &    $408$ &   $7.1$ \\\\\n",
      "                \\EGWKL{0.1} &  $0.12$ &    $420$ &   $2.4$ \\\\\n",
      "                \\EGWKL{0.5} &  $0.07$ &    $429$ &   $0.4$ \\\\\n",
      "                  \\EGWKL{1} &  $0.07$ &    $429$ &   $0.4$ \\\\\n",
      "                   \\EGWKL{} &  $0.12$ &    $420$ &   $2.1$ \\\\\n",
      "                    \\EGW{0} &  $0.37$ &    $341$ &  $16.6$ \\\\\n",
      "             \\SGW$_{p=1.5}$ &  $0.49$ &          &  $13.6$ \\\\\n",
      "               \\SGW$_{p=1}$ &  $0.49$ &          &  $11.6$ \\\\\n",
      "       \\SGW 1exp_loss100_KN &  $0.05$ &          &   $0.7$ \\\\\n",
      " \\SGW 1exp_loss_sigma100_KN &  $0.05$ &          &   $0.8$ \\\\\n",
      "             \\SGW$_{p=2.5}$ &  $0.37$ &          &  $12.3$ \\\\\n",
      "       \\SGW 2exp_loss100_KN &  $0.27$ &          &  $13.9$ \\\\\n",
      " \\SGW 2exp_loss_sigma100_KN &  $0.05$ &          &   $0.8$ \\\\\n",
      "               \\SGW$_{p=3}$ &  $0.27$ &          &  $11.8$ \\\\\n",
      "               \\SGW$_{p=2}$ &  $0.39$ &    $336$ &  $12.7$ \\\\\n",
      "             \\SGW$_{p=0.5}$ &  $0.41$ &          &  $12.3$ \\\\\n",
      "             \\PGW$_{p=1.5}$ &  $0.37$ &          &   $0.5$ \\\\\n",
      "               \\PGW$_{p=1}$ &  $0.37$ &          &   $0.5$ \\\\\n",
      "          \\PGW 1exp_loss_KN &  $0.05$ &          &   $0.5$ \\\\\n",
      "    \\PGW 1exp_loss_sigma_KN &  $0.05$ &          &   $0.5$ \\\\\n",
      "             \\PGW$_{p=2.5}$ &  $0.32$ &          &   $0.6$ \\\\\n",
      "          \\PGW 2exp_loss_KN &   $0.2$ &          &   $0.5$ \\\\\n",
      "               \\PGW$_{p=3}$ &  $0.27$ &          &   $0.5$ \\\\\n",
      "   \\PGW inverse_exp_loss_KN &   $0.1$ &          &   $0.2$ \\\\\n",
      "               \\PGW$_{p=2}$ &  $0.39$ &    $373$ &   $0.5$ \\\\\n",
      "             \\PGW$_{p=0.5}$ &  $0.37$ &          &   $0.5$ \\\\\n",
      "                    Uniform &  $0.07$ &    $430$ &   $0.1$ \\\\\n",
      "\\bottomrule\n",
      "\\end{tabular}\n",
      "\n",
      "\\end{table*}\n"
     ]
    }
   ],
   "source": [
    "import main_comparaison\n",
    "main_comparaison.analyse_classif(name_dataset=\"DB\")"
   ]
  },
  {
   "cell_type": "markdown",
   "metadata": {},
   "source": [
    "# Small experiment for different value of entropy"
   ]
  },
  {
   "cell_type": "markdown",
   "metadata": {},
   "source": [
    "Run the following line to get the latex table bellow (lot of useless comment will be display)."
   ]
  },
  {
   "cell_type": "code",
   "execution_count": null,
   "metadata": {},
   "outputs": [],
   "source": [
    "!python main_comparaison.py -entropy --n_samples_s 50 --loss_func_name 1_loss --name_algo sampled_gromov_e_constant --name_dataset gaussian_graph --n_iter_algo 10 --iter_epsilon 1000 --epsilon 1"
   ]
  },
  {
   "cell_type": "code",
   "execution_count": null,
   "metadata": {},
   "outputs": [],
   "source": [
    "\\begin{table*}\n",
    "\\begin{tabular}{lrr}\n",
    "\\toprule\n",
    "epsilon &   SGW &   EGW \\\\\n",
    "\\midrule\n",
    "  0.001 &  0.73 &  0.75 \\\\\n",
    "  0.005 &  0.59 &  0.63 \\\\\n",
    "   0.01 &  0.55 &  0.62 \\\\\n",
    "   0.05 &  0.51 &  0.67 \\\\\n",
    "    0.1 &  0.51 &  0.71 \\\\\n",
    "    0.5 &  0.52 &  0.75 \\\\\n",
    "      1 &  0.52 &  0.75 \\\\\n",
    "      5 &  0.62 &  0.75 \\\\\n",
    "     10 &  0.68 &  0.75 \\\\\n",
    "\\bottomrule\n",
    "\\end{tabular}\n",
    "\n",
    "\\end{table*}"
   ]
  },
  {
   "cell_type": "markdown",
   "metadata": {},
   "source": [
    "# Small experiment for different value of alpha"
   ]
  },
  {
   "cell_type": "markdown",
   "metadata": {},
   "source": [
    "Run the following lines to get the latex tables bellow (lot of useless comment will be display)."
   ]
  },
  {
   "cell_type": "code",
   "execution_count": null,
   "metadata": {},
   "outputs": [],
   "source": [
    "!python main_comparaison.py -alpha --n_samples_s 50 --loss_func_name 1_loss --name_algo sampled_gromov_sliced --name_dataset gaussian_graph --n_iter_algo 1 --iter_epsilon 1000 --epsilon 1"
   ]
  },
  {
   "cell_type": "code",
   "execution_count": null,
   "metadata": {},
   "outputs": [],
   "source": [
    "\\begin{table*}\n",
    "\\begin{tabular}{rrrrrrrrrrr}\n",
    "\\toprule\n",
    " Number Iterations &  0.001 &   0.01 &    0.1 &   0.25 &    0.5 &   0.75 &    0.9 &   0.99 &  0.999 &      1 \\\\\n",
    "\\midrule\n",
    "                 1 &  74.87 &  74.87 &  74.82 &  74.63 &  74.03 &  73.07 &  72.33 &  71.82 &  71.77 &  71.76 \\\\\n",
    "                10 &  74.87 &  74.82 &  74.73 &  74.52 &  74.88 &  74.69 &  72.28 &  71.84 &  71.80 &  71.79 \\\\\n",
    "               100 &  74.82 &  74.35 &  73.36 &  73.94 &  74.67 &  68.34 &  68.76 &  71.91 &  71.93 &  71.94 \\\\\n",
    "              1000 &  74.37 &  73.76 &  72.90 &  73.32 &  73.09 &  72.12 &  70.62 &  72.97 &  73.01 &  70.69 \\\\\n",
    "\\bottomrule\n",
    "\\end{tabular}\n",
    "\n",
    "\\end{table*}"
   ]
  },
  {
   "cell_type": "code",
   "execution_count": null,
   "metadata": {},
   "outputs": [],
   "source": [
    "!python main_comparaison.py -alpha --n_samples_s 50 --loss_func_name 1_loss --name_algo sampled_gromov_sliced --name_dataset gaussian_point_graph --n_iter_algo 1 --iter_epsilon 1000 --epsilon 1"
   ]
  },
  {
   "cell_type": "code",
   "execution_count": null,
   "metadata": {},
   "outputs": [],
   "source": [
    "\\begin{table*}\n",
    "\\begin{tabular}{rrrrrrrrrrr}\n",
    "\\toprule\n",
    " Number Iterations &   0.001 &    0.01 &     0.1 &    0.25 &     0.5 &    0.75 &     0.9 &    0.99 &   0.999 &       1 \\\\\n",
    "\\midrule\n",
    "                 1 &  166.88 &  166.87 &  166.28 &  163.53 &  154.03 &  138.40 &  126.08 &  117.62 &  116.73 &  116.63 \\\\\n",
    "                10 &  166.83 &  166.37 &  163.81 &  160.98 &  117.23 &   85.41 &   85.27 &   85.24 &   79.84 &   79.84 \\\\\n",
    "               100 &  166.48 &  163.31 &  105.36 &   90.42 &  137.56 &   76.93 &   79.02 &   73.80 &   73.64 &   73.62 \\\\\n",
    "              1000 &  163.38 &  134.57 &   86.59 &   80.47 &   79.43 &   78.28 &   77.45 &   77.14 &   77.11 &   77.11 \\\\\n",
    "\\bottomrule\n",
    "\\end{tabular}\n",
    "\n",
    "\\end{table*}"
   ]
  }
 ],
 "metadata": {
  "kernelspec": {
   "display_name": "Python [conda env:Gromap]",
   "language": "python",
   "name": "conda-env-Gromap-py"
  },
  "language_info": {
   "codemirror_mode": {
    "name": "ipython",
    "version": 3
   },
   "file_extension": ".py",
   "mimetype": "text/x-python",
   "name": "python",
   "nbconvert_exporter": "python",
   "pygments_lexer": "ipython3",
   "version": "3.7.6"
  }
 },
 "nbformat": 4,
 "nbformat_minor": 2
}
